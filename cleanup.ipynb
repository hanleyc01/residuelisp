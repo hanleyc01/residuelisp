{
 "cells": [
  {
   "cell_type": "markdown",
   "metadata": {},
   "source": [
    "# Clean-up Memory\n",
    "\n",
    "The reference implementation of VSA lisp has a simple clean-up memory which \n",
    "acts up when used as a drop-in replacement with FHRRs. Therefore, we will \n",
    "here be inspecting the dynamics of the simple clean-up memory in order\n",
    "to diagnose the problem."
   ]
  },
  {
   "cell_type": "code",
   "execution_count": 129,
   "metadata": {},
   "outputs": [],
   "source": [
    "import matplotlib.pyplot as plt\n",
    "%matplotlib inline\n",
    "\n",
    "import numpy as np\n",
    "\n",
    "from vsa.fhrr import FHRR\n",
    "dim = 600\n",
    "np.random.seed(0)\n",
    "\n",
    "fhrr = FHRR(dim=dim)"
   ]
  },
  {
   "cell_type": "code",
   "execution_count": 167,
   "metadata": {},
   "outputs": [],
   "source": [
    "class SimpleCleanup:\n",
    "    mem: np.ndarray\n",
    "    \"\"\"The memory matrix.\"\"\"\n",
    "    dim: int\n",
    "    \"\"\"Dimensionality of the vectors involved\"\"\"\n",
    "    cap: int\n",
    "    \"\"\"Current storage capacity.\"\"\"\n",
    "    incr: int\n",
    "    \"\"\"Increment to increase capacity `cap` with.\"\"\"\n",
    "    size: int\n",
    "    \"\"\"Current count of traces stored.\"\"\"\n",
    "\n",
    "    def __init__(self, dim: int, cap: int = 100) -> None:\n",
    "        self.dim = dim\n",
    "        self.cap = cap\n",
    "        self.incr = cap\n",
    "        self.size = 0\n",
    "        self.mem = np.zeros(shape=(self.cap, self.dim), dtype=complex)\n",
    "\n",
    "    def memorize(self, v: np.ndarray) -> np.ndarray:\n",
    "        if self.size >= self.cap:\n",
    "            self.mem = np.concatenate(\n",
    "                [self.mem, np.zeros((self.incr, self.dim))], axis=0\n",
    "            )\n",
    "            self.cap += self.incr\n",
    "\n",
    "        self.mem[self.size, :] = v\n",
    "        self.size += 1\n",
    "        return v\n",
    "\n",
    "    def recall(self, v: np.ndarray) -> np.ndarray:\n",
    "        #act = np.vectorize(lambda v, m: fhrr.sim(m, v), signature='(n),(n,m)->(m)')\n",
    "        activations = [fhrr.sim(v, m) for m in self.mem]\n",
    "        return self.mem[np.argmax(activations), :]"
   ]
  },
  {
   "cell_type": "markdown",
   "metadata": {},
   "source": [
    "# First problems\n",
    "\n",
    "Immediately, this definition has some problems. "
   ]
  },
  {
   "cell_type": "code",
   "execution_count": 173,
   "metadata": {},
   "outputs": [
    {
     "name": "stdout",
     "output_type": "stream",
     "text": [
      "0.06879334063865698\n",
      "-0.05061550459620943\n",
      "1.0\n",
      "-0.06072032028344405\n",
      "1.0\n",
      "0.01988138630204328\n",
      "0.002316238090864585\n",
      "1.0\n",
      "-0.03611916054401311\n",
      "1.0\n"
     ]
    }
   ],
   "source": [
    "for _ in range(10):\n",
    "    mem = SimpleCleanup(dim)\n",
    "    fhrr.set_symbols([\"red\", \"blue\", \"green\", \"yellow\", \"white\", \"cyan\", \"magenta\"])\n",
    "\n",
    "    for _, value in fhrr.symbols.items():\n",
    "        mem.memorize(value)\n",
    "\n",
    "    print(fhrr.sim(mem.recall(fhrr.superpose(fhrr[\"red\"], fhrr[\"blue\"])), fhrr[\"blue\"]))"
   ]
  },
  {
   "cell_type": "code",
   "execution_count": 157,
   "metadata": {},
   "outputs": [
    {
     "name": "stdout",
     "output_type": "stream",
     "text": [
      "[1 2 3]\n",
      "[4 5 6]\n"
     ]
    }
   ],
   "source": [
    "test = np.array([[1,2,3], [4,5,6]])\n",
    "for x in test:\n",
    "    print(x)"
   ]
  },
  {
   "cell_type": "code",
   "execution_count": null,
   "metadata": {},
   "outputs": [],
   "source": []
  },
  {
   "cell_type": "code",
   "execution_count": null,
   "metadata": {},
   "outputs": [],
   "source": []
  }
 ],
 "metadata": {
  "kernelspec": {
   "display_name": ".venv",
   "language": "python",
   "name": "python3"
  },
  "language_info": {
   "codemirror_mode": {
    "name": "ipython",
    "version": 3
   },
   "file_extension": ".py",
   "mimetype": "text/x-python",
   "name": "python",
   "nbconvert_exporter": "python",
   "pygments_lexer": "ipython3",
   "version": "3.13.0"
  }
 },
 "nbformat": 4,
 "nbformat_minor": 2
}
